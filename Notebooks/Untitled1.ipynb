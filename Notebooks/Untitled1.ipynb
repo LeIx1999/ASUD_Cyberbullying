{
 "cells": [
  {
   "cell_type": "code",
   "execution_count": 6,
   "id": "18d831cc",
   "metadata": {},
   "outputs": [],
   "source": [
    "from sentence_transformers import SentenceTransformer\n",
    "import pandas as pd\n",
    "from sklearn.ensemble import RandomForestClassifier\n",
    "from sklearn.metrics import classification_report\n",
    "from sklearn.model_selection import GridSearchCV\n",
    "from joblib import dump\n",
    "import numpy as np\n",
    "from sklearn.preprocessing import LabelEncoder\n",
    "\n",
    "# read in data\n",
    "data = pd.read_csv(\"/Users/jannis/ASUD_Cyberbullying /Notebooks/data/prepared_dataframe.csv\")\n",
    "\n",
    "# split data in training and test\n",
    "data_train = data.sample(round(0.75 * len(data)), random_state = 1).reset_index()\n",
    "data_test = data[~data.index.isin(data_train.index)].reset_index()\n",
    "\n"
   ]
  },
  {
   "cell_type": "code",
   "execution_count": 2,
   "id": "008d41bc",
   "metadata": {},
   "outputs": [],
   "source": [
    "# load pretrained transformer model\n",
    "model = SentenceTransformer('sentence-transformers/all-MiniLM-L6-v2')\n",
    "\n",
    "# create tweet embeddings\n",
    "tweet_vectors = model.encode(data_train[\"tweets_clean\"])\n",
    "new_tweet_v = model.encode(data_test[\"tweets_clean\"])\n",
    "\n"
   ]
  },
  {
   "cell_type": "code",
   "execution_count": 11,
   "id": "9f3f2884",
   "metadata": {},
   "outputs": [],
   "source": [
    "def encode_classes(classes: list) -> np.array:\n",
    "    encoder = LabelEncoder()\n",
    "    classes_trans = encoder.fit_transform(classes)\n",
    "    return classes_trans, encoder\n",
    "\n",
    "# decode classes\n",
    "def decode_classes(preds: list, encoder: LabelEncoder) -> list:\n",
    "    encoder_dict = dict(enumerate(encoder.classes_.flatten(), 0))\n",
    "    preds = [encoder_dict[x] for x in preds]\n",
    "    return preds\n",
    "\n",
    "def calc_accuracy(preds: list, act_values: list) -> str:\n",
    "    acc = 0\n",
    "    for i in range(len(preds)):\n",
    "        if preds[i] == act_values[i]:\n",
    "            acc += 1\n",
    "    accuracy = acc / len(preds)\n",
    "    return f'Accuracy: {str(accuracy)}'"
   ]
  },
  {
   "cell_type": "code",
   "execution_count": 13,
   "id": "dbde21f4",
   "metadata": {},
   "outputs": [
    {
     "name": "stdout",
     "output_type": "stream",
     "text": [
      "              precision    recall  f1-score   support\n",
      "\n",
      "       ABUSE       1.00      0.80      0.89        86\n",
      "      INSULT       1.00      0.77      0.87       171\n",
      "       OTHER       0.88      1.00      0.94       474\n",
      "   PROFANITY       1.00      0.74      0.85        27\n",
      "\n",
      "    accuracy                           0.92       758\n",
      "   macro avg       0.97      0.83      0.89       758\n",
      "weighted avg       0.93      0.92      0.91       758\n",
      "\n"
     ]
    }
   ],
   "source": [
    "# Encode the classes\n",
    "y_transformed, encoder = encode_classes(data_train[\"granulareKlassifikation\"])\n",
    "\n",
    "# Train a Random Forest\n",
    "rfc = RandomForestClassifier(random_state=42)\n",
    "# hyperparameter = {\"max_depth\": [4, 6, 8, 10, 12],\n",
    "#                  \"min_samples_split\": [2, 3, 4, 5, 6]}\n",
    "# ,\n",
    "#                   \"max_samples\": [0.6, 0.7, 0.8, 0.9, 1]\n",
    "\n",
    "# rfc_grid = GridSearchCV(rfc, hyperparameter, cv=5)\n",
    "rfc.fit(tweet_vectors, y_transformed)\n",
    "\n",
    "# make predictions\n",
    "rfc_predictions = rfc.predict(new_tweet_v)\n",
    "\n",
    "# Decode classes\n",
    "rfc_predictions = decode_classes(rfc_predictions, encoder)\n",
    "\n",
    "# calculate accuracy\n",
    "acc = calc_accuracy(rfc_predictions, data_test[\"granulareKlassifikation\"])\n",
    "# print(acc)\n",
    "# classification report\n",
    "print(classification_report(data_test[\"granulareKlassifikation\"], rfc_predictions))\n",
    "\n",
    "# compare value counts\n",
    "# print(RF_functions.compare_value_counts(rfc_predictions, data_test[\"granulareKlassifikation\"]))"
   ]
  },
  {
   "cell_type": "code",
   "execution_count": 10,
   "id": "965ba39e",
   "metadata": {},
   "outputs": [
    {
     "name": "stdout",
     "output_type": "stream",
     "text": [
      "              precision    recall  f1-score   support\n",
      "\n",
      "       ABUSE       1.00      0.80      0.89        86\n",
      "      INSULT       1.00      0.77      0.87       171\n",
      "       OTHER       0.88      1.00      0.94       474\n",
      "   PROFANITY       1.00      0.74      0.85        27\n",
      "\n",
      "    accuracy                           0.92       758\n",
      "   macro avg       0.97      0.83      0.89       758\n",
      "weighted avg       0.93      0.92      0.91       758\n",
      "\n"
     ]
    }
   ],
   "source": [
    "print(classification_report(data_test[\"granulareKlassifikation\"], rfc_predictions))"
   ]
  },
  {
   "cell_type": "code",
   "execution_count": 14,
   "id": "bfb61f03",
   "metadata": {},
   "outputs": [
    {
     "name": "stdout",
     "output_type": "stream",
     "text": [
      "Accuracy: 0.91688654353562\n"
     ]
    }
   ],
   "source": [
    "print(acc)"
   ]
  },
  {
   "cell_type": "code",
   "execution_count": null,
   "id": "43874c31",
   "metadata": {},
   "outputs": [],
   "source": []
  }
 ],
 "metadata": {
  "kernelspec": {
   "display_name": "Python 3 (ipykernel)",
   "language": "python",
   "name": "python3"
  },
  "language_info": {
   "codemirror_mode": {
    "name": "ipython",
    "version": 3
   },
   "file_extension": ".py",
   "mimetype": "text/x-python",
   "name": "python",
   "nbconvert_exporter": "python",
   "pygments_lexer": "ipython3",
   "version": "3.9.11"
  }
 },
 "nbformat": 4,
 "nbformat_minor": 5
}
