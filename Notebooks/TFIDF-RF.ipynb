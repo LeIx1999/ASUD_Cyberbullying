{
 "cells": [
  {
   "cell_type": "markdown",
   "id": "05aefde8-2f93-4fcd-b5e6-44d3ff607949",
   "metadata": {},
   "source": [
    "# TFIDF"
   ]
  },
  {
   "cell_type": "code",
   "execution_count": 1,
   "id": "e1e8fb87-cb14-42bf-90f0-1efcd0fdfe4e",
   "metadata": {},
   "outputs": [],
   "source": [
    "import pandas as pd\n",
    "from sklearn.preprocessing import LabelEncoder\n",
    "from sklearn.feature_extraction.text import TfidfVectorizer\n",
    "import re\n",
    "from sklearn.model_selection import train_test_split\n",
    "from sklearn.ensemble import RandomForestClassifier\n",
    "from sklearn.metrics import classification_report\n",
    "import numpy as np\n",
    "\n"
   ]
  },
  {
   "cell_type": "code",
   "execution_count": 2,
   "id": "dcaa3f0d-78c6-4e98-9e4b-efd50582a642",
   "metadata": {},
   "outputs": [],
   "source": [
    "df = pd.read_csv(\"./prepared_dataframe.csv\")\n"
   ]
  },
  {
   "cell_type": "code",
   "execution_count": 3,
   "id": "ef19f97f-f22b-4b58-8aef-abf16c7a4dc7",
   "metadata": {},
   "outputs": [],
   "source": [
    "# words in tweet as one string \n",
    "data = df\n",
    "data[\"tweets_clean\"] = [\" \".join(eval(word)) for word in data[\"Wörter in Tweet\"]] \n",
    "\n",
    "# drop unicode emojis and LBR\n",
    "new_tweet_ls = []\n",
    "for tweet in data.tweets_clean:\n",
    "    tweet_sp = tweet.split()\n",
    "    for word in tweet_sp:\n",
    "        if any(x in word for x in [\"000\", \"LBR\", \"lbr\"]) :\n",
    "            tweet = tweet.replace(word, \"\")\n",
    "        \n",
    "    new_tweet_ls.append(tweet)\n",
    "\n",
    "data[\"tweets_clean\"] = new_tweet_ls"
   ]
  },
  {
   "cell_type": "markdown",
   "id": "ec59b256-a3c8-464c-abba-db256c367f21",
   "metadata": {},
   "source": [
    "## Data Pre"
   ]
  },
  {
   "cell_type": "code",
   "execution_count": 4,
   "id": "2b48e6ae-f8d4-45be-91a4-513b8d524a61",
   "metadata": {},
   "outputs": [],
   "source": [
    "# preprocess the tweets\n",
    "def process_tweets(tweet : str):\n",
    "    # all lowercase\n",
    "    tweet = tweet.lower()\n",
    "    # remove Sonderzeichen etc (based on Sonderzeichen.txt)\n",
    "    tweet = re.sub('[^a-zA-ZäöüÄÖÜß]', \" \", tweet)\n",
    "    return tweet\n",
    "\n",
    "\n",
    "# split data in training and test\n",
    "#data_train = data.sample(round(0.75 * len(data)), random_state = 1).reset_index()\n",
    "#data_test = data[~data.index.isin(data_train.index)].reset_index()\n",
    "\n",
    "data_pre = data\n",
    "data_pre[\"tweets_clean\"] = [process_tweets(tweet) for tweet in data_pre[\"tweet\"]]"
   ]
  },
  {
   "cell_type": "code",
   "execution_count": 6,
   "id": "aad46533-f130-4489-9451-21734bd89988",
   "metadata": {},
   "outputs": [
    {
     "data": {
      "text/plain": [
       "array(['ABUSE', 'INSULT', 'OTHER', 'PROFANITY'], dtype=object)"
      ]
     },
     "execution_count": 6,
     "metadata": {},
     "output_type": "execute_result"
    }
   ],
   "source": [
    "encoder = LabelEncoder()\n",
    "data_pre['granulareKlassifikation'] = encoder.fit_transform(data_pre['granulareKlassifikation'])\n",
    "encoder.classes_"
   ]
  },
  {
   "cell_type": "markdown",
   "id": "56ebdd26-537f-4853-8d5d-52796fe3b46c",
   "metadata": {},
   "source": [
    "## TFIDF Vectorizer"
   ]
  },
  {
   "cell_type": "code",
   "execution_count": 7,
   "id": "e132cfbc-2fcd-4fa7-8108-b0175d4a26bd",
   "metadata": {},
   "outputs": [],
   "source": [
    "tfidf_vec = TfidfVectorizer()"
   ]
  },
  {
   "cell_type": "code",
   "execution_count": 8,
   "id": "b276a6d4-7c0f-4fb8-85cd-11d9c4a215cb",
   "metadata": {},
   "outputs": [],
   "source": [
    "df_train, df_test = train_test_split(data_pre,\n",
    " test_size = 0.2,\n",
    " random_state = 42)\n",
    "\n",
    "X_train = tfidf_vec.fit_transform(df_train['tweets_clean'])\n",
    "X_test = tfidf_vec.transform(df_test['tweets_clean'])\n",
    "y_train = np.ravel(df_train['granulareKlassifikation'])\n",
    "y_test = np.ravel(df_test['granulareKlassifikation'])\n"
   ]
  },
  {
   "cell_type": "markdown",
   "id": "625d95ce-2b39-4910-ad2f-d5704a2ed3fb",
   "metadata": {},
   "source": [
    "## Random Forest Classifier"
   ]
  },
  {
   "cell_type": "code",
   "execution_count": 22,
   "id": "0b664fa2-d3e9-4c31-8ccf-98289a3fea67",
   "metadata": {},
   "outputs": [],
   "source": [
    "rfc = RandomForestClassifier()\n",
    "rfc.fit(X_train, y_train)\n",
    "rfc_predictions = rfc.predict(X_test)\n",
    "rfc_human_readeable = encoder.inverse_transform(rfc_predictions)"
   ]
  },
  {
   "cell_type": "markdown",
   "id": "c948032a-852f-4f2d-835f-634937da4933",
   "metadata": {},
   "source": [
    "## Evaluation"
   ]
  },
  {
   "cell_type": "code",
   "execution_count": 20,
   "id": "becb08c0-7c43-4ca8-b549-d9b4787f6a62",
   "metadata": {},
   "outputs": [
    {
     "name": "stdout",
     "output_type": "stream",
     "text": [
      "              precision    recall  f1-score   support\n",
      "\n",
      "       ABUSE       1.00      0.06      0.11        84\n",
      "      INSULT       1.00      0.03      0.06       105\n",
      "       OTHER       0.67      1.00      0.80       399\n",
      "   PROFANITY       0.33      0.05      0.09        19\n",
      "\n",
      "    accuracy                           0.67       607\n",
      "   macro avg       0.75      0.29      0.27       607\n",
      "weighted avg       0.76      0.67      0.56       607\n",
      "\n"
     ]
    }
   ],
   "source": [
    "print(classification_report(y_test, rfc_predictions, target_names=encoder.classes_))"
   ]
  },
  {
   "cell_type": "code",
   "execution_count": 23,
   "id": "ce3630c2-b375-40b2-8902-e611f590095a",
   "metadata": {},
   "outputs": [
    {
     "name": "stdout",
     "output_type": "stream",
     "text": [
      "Accuracy: 0.6771004942339374\n"
     ]
    }
   ],
   "source": [
    "acc = 0\n",
    "for i in range(len(rfc_predictions)):\n",
    "    if rfc_predictions[i] == y_test[i]:\n",
    "        acc += 1\n",
    "accuracy = acc / len(rfc_predictions)\n",
    "print(\"Accuracy: \" + str(accuracy))"
   ]
  }
 ],
 "metadata": {
  "kernelspec": {
   "display_name": "Python 3 (ipykernel)",
   "language": "python",
   "name": "python3"
  },
  "language_info": {
   "codemirror_mode": {
    "name": "ipython",
    "version": 3
   },
   "file_extension": ".py",
   "mimetype": "text/x-python",
   "name": "python",
   "nbconvert_exporter": "python",
   "pygments_lexer": "ipython3",
   "version": "3.9.7"
  }
 },
 "nbformat": 4,
 "nbformat_minor": 5
}
